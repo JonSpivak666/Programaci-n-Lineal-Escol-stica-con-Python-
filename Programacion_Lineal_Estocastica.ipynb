{
  "nbformat": 4,
  "nbformat_minor": 0,
  "metadata": {
    "colab": {
      "provenance": [],
      "include_colab_link": true
    },
    "kernelspec": {
      "name": "python3",
      "display_name": "Python 3"
    },
    "language_info": {
      "name": "python"
    }
  },
  "cells": [
    {
      "cell_type": "markdown",
      "metadata": {
        "id": "view-in-github",
        "colab_type": "text"
      },
      "source": [
        "<a href=\"https://colab.research.google.com/github/JonSpivak666/Programaci-n-Lineal-Escol-stica-con-Python-/blob/main/Programacion_Lineal_Estocastica.ipynb\" target=\"_parent\"><img src=\"https://colab.research.google.com/assets/colab-badge.svg\" alt=\"Open In Colab\"/></a>"
      ]
    },
    {
      "cell_type": "markdown",
      "source": [
        "# Programación Lineal Estocástica"
      ],
      "metadata": {
        "id": "IZcRrbM7SstS"
      }
    },
    {
      "cell_type": "markdown",
      "source": [
        "\n",
        "####  Introducción\n",
        "La optimización de la cadena de suministro es un aspecto crítico en la gestión logística de una empresa multinacional, especialmente en sectores con alta variabilidad en la demanda y costos significativos asociados al transporte. En este contexto, la programación lineal estocástica se presenta como una herramienta poderosa para abordar la incertidumbre en la demanda de los clientes y las capacidades logísticas, permitiendo la toma de decisiones óptimas bajo condiciones de incertidumbre.\n",
        "\n",
        "####  Programación Lineal vs Programación Lineal Estocástica\n",
        "La programación lineal estocástica extiende los modelos de programación lineal tradicionales incorporando variables aleatorias para representar la incertidumbre en los parámetros del modelo. En el caso de la cadena de suministro, estas variables aleatorias permiten modelar de manera realista la demanda de los clientes y las capacidades de los centros de distribución, proporcionando soluciones robustas y eficientes.\n",
        "\n",
        "####  Formulación del Problema\n",
        "Consideremos una empresa con varios centros de distribución y producción \\((i \\in \\{1, 2, ..., m\\})\\), numerosos clientes \\((j \\in \\{1, 2, ..., n\\})\\) y diferentes productos \\((k \\in \\{1, 2, ..., p\\})\\). Las rutas de transporte disponibles \\((t \\in \\{1, 2, 3\\})\\) incluyen modalidades aérea, marítima y terrestre. La demanda de los clientes se modela como un proceso estocástico, y el objetivo es minimizar el costo total de transporte mientras se satisfacen las demandas y se respetan las capacidades y tiempos de entrega.\n",
        "\n",
        "####  Formulación Matemática\n",
        "**Función Objetivo:** Minimizar el costo total de transporte:\n",
        "$$\\min \\sum_{i=1}^{m} \\sum_{j=1}^{n} \\sum_{k=1}^{p} \\sum_{t=1}^{q} c_{ijkt} \\cdot x_{ijkt}$$\n",
        "\n",
        "**Restricciones:**\n",
        "- **Capacidad de los Centros de Distribución:**\n",
        "  $$\\sum_{j=1}^{n} \\sum_{t=1}^{q} x_{ijkt} \\leq s_{ik} \\quad \\text{para todo } i, k.$$\n",
        "- **Demanda de los Clientes:**\n",
        "  $$\\sum_{i=1}^{m} \\sum_{t=1}^{q} x_{ijkt} \\geq d_{jk} \\quad \\text{para todo } j, k, \\text{donde } d_{jk} \\sim N(\\mu_{jk}, \\sigma_{jk}^2).$$\n",
        "- **Capacidad de las Rutas:**\n",
        "  $$\\sum_{k=1}^{p} x_{ijkt} \\leq u_{ijt} \\quad \\text{para todo } i, j, t.$$\n",
        "- **Tiempo de Entrega:**\n",
        "  $$\\sum_{k=1}^{p} T_{ijkt} \\cdot x_{ijkt} \\leq L_j \\quad \\text{para todo } j.$$\n",
        "\n",
        "####  Modelado de la Demanda Estocástica\n",
        "La demanda de cada cliente \\(d_{jk}\\) se modela como una variable aleatoria con distribución normal, caracterizada por su media \\(\\mu_{jk}\\) y su desviación estándar \\(\\sigma_{jk}\\). Esto permite capturar la incertidumbre en la demanda y ajustar el modelo para obtener soluciones robustas frente a variaciones en las necesidades de los clientes.\n"
      ],
      "metadata": {
        "id": "Wmczt1qiQwFR"
      }
    },
    {
      "cell_type": "markdown",
      "source": [
        "#  Desarrollo del Proyecto"
      ],
      "metadata": {
        "id": "83Naw9D5S67H"
      }
    },
    {
      "cell_type": "markdown",
      "source": [
        "\n",
        "####  Planteamiento del Problema\n",
        "Una empresa multinacional de electrónica necesita optimizar la distribución de sus productos desde varios centros de producción y distribución ubicados en diferentes continentes a sus principales clientes, que incluyen tanto minoristas grandes como cadenas de tiendas y distribuidores en varias regiones del mundo. La empresa tiene varios productos, cada uno con diferentes características de costo, demanda y restricciones logísticas. Además, las rutas de transporte disponibles incluyen diversas modalidades (aérea, marítima y terrestre), cada una con diferentes costos y capacidades. También hay restricciones de tiempo de entrega que deben ser consideradas para satisfacer contratos con clientes específicos.\n",
        "\n",
        "####  Datos del Problema\n",
        "**Centros de Distribución y Producción:**\n",
        "- **CD1 (América):** Capacidad total de 1000 unidades para el Producto A, 800 unidades para el Producto B.\n",
        "- **CD2 (Europa):** Capacidad total de 1200 unidades para el Producto A, 1000 unidades para el Producto B.\n",
        "- **CD3 (Asia):** Capacidad total de 1500 unidades para el Producto A, 1100 unidades para el Producto B.\n",
        "\n",
        "**Clientes:**\n",
        "- **Cliente 1 (USA):** Demanda media de 500 unidades de Producto A, 300 unidades de Producto B. Desviación estándar: Producto A: 50 unidades, Producto B: 30 unidades.\n",
        "- **Cliente 2 (Alemania):** Demanda media de 600 unidades de Producto A, 400 unidades de Producto B. Desviación estándar: Producto A: 60 unidades, Producto B: 40 unidades.\n",
        "- **Cliente 3 (China):** Demanda media de 700 unidades de Producto A, 500 unidades de Producto B. Desviación estándar: Producto A: 70 unidades, Producto B: 50 unidades.\n",
        "- **Cliente 4 (Brasil):** Demanda media de 400 unidades de Producto A, 200 unidades de Producto B. Desviación estándar: Producto A: 40 unidades, Producto B: 20 unidades.\n",
        "\n",
        "**Costos de Transporte (cijkt) (por unidad):**\n",
        "- Detalles de costos por rutas y modalidades entre centros y clientes.\n",
        "\n",
        "**Capacidades de las rutas (uijt) y Tiempos de Transporte (Tijkt):**\n",
        "- Detalles de capacidades y tiempos por modalidades de transporte.\n",
        "\n",
        "**Límites de Tiempo de Entrega (Lj) (en días):**\n",
        "- Detalles de los límites de tiempo para cada cliente.\n",
        "\n",
        "####  Formulación Matemática\n",
        "**Función Objetivo:** Minimizar el costo total de transporte:\n",
        "$$\\min \\sum_{i=1}^{m} \\sum_{j=1}^{n} \\sum_{k=1}^{p} \\sum_{t=1}^{q} c_{ijkt} \\cdot x_{ijkt}$$\n",
        "\n",
        "**Restricciones:**\n",
        "- **Capacidad de los Centros de Distribución:**\n",
        "  $$\\sum_{j=1}^{n} \\sum_{t=1}^{q} x_{ijkt} \\leq s_{ik} \\quad \\text{para todo } i, k.$$\n",
        "- **Demanda de los Clientes:**\n",
        "  $$\\sum_{i=1}^{m} \\sum_{t=1}^{q} x_{ijkt} \\geq d_{jk} \\quad \\text{para todo } j, k.$$\n",
        "- **Capacidad de las Rutas:**\n",
        "  $$\\sum_{k=1}^{p} x_{ijkt} \\leq u_{ijt} \\quad \\text{para todo } i, j, t.$$\n",
        "- **Tiempo de Entrega:**\n",
        "  $$\\sum_{k=1}^{p} T_{ijkt} \\cdot x_{ijkt} \\leq L_j \\quad \\text{para todo } j.$$\n",
        "\n",
        "####  Metodología\n",
        "Para resolver este problema, seguiremos estos pasos:\n",
        "1. Generación de datos de demanda estocásticos utilizando distribuciones normales.\n",
        "2. Implementación del modelo en Python utilizando una biblioteca de optimización como PuLP o Gurobi.\n",
        "3. Evaluación de la solución obtenida y realización de un análisis de sensibilidad.\n",
        "\n",
        "\n"
      ],
      "metadata": {
        "id": "mExT8OatQ5Nt"
      }
    },
    {
      "cell_type": "markdown",
      "source": [
        "# Generación de Datos de Demanda Estocástica\n",
        "Para modelar la demanda de los clientes de manera realista, se utilizó una distribución normal para representar la variabilidad en la demanda. Los parámetros de media y desviación estándar se definieron para cada cliente y producto, permitiendo capturar la incertidumbre inherente a las operaciones logísticas.\n",
        "\n"
      ],
      "metadata": {
        "id": "_nC9w5e5SPAk"
      }
    },
    {
      "cell_type": "code",
      "source": [
        "import numpy as np\n",
        "\n",
        "# Parámetros de demanda\n",
        "mu = np.array([[500, 300], [600, 400], [700, 500], [400, 200]])\n",
        "sigma = np.array([[50, 30], [60, 40], [70, 50], [40, 20]])\n",
        "\n",
        "# Generar demanda estocástica\n",
        "np.random.seed(42)  # Para reproducibilidad\n",
        "demanda = np.random.normal(mu, sigma)\n",
        "print(demanda)\n"
      ],
      "metadata": {
        "colab": {
          "base_uri": "https://localhost:8080/"
        },
        "id": "4N-TjJSK0_xM",
        "outputId": "3accdc84-aa75-4e7d-ed14-9b2f9d986921"
      },
      "execution_count": null,
      "outputs": [
        {
          "output_type": "stream",
          "name": "stdout",
          "text": [
            "[[524.83570765 295.85207096]\n",
            " [638.86131229 460.92119426]\n",
            " [683.60926377 488.29315215]\n",
            " [463.16851262 215.34869458]]\n"
          ]
        }
      ]
    },
    {
      "cell_type": "markdown",
      "source": [
        "#  Formulación y Resolución del Modelo\n",
        "El problema de optimización se formula como un problema de programación lineal, donde el objetivo es minimizar el costo total de transporte mientras se satisfacen las demandas de los clientes y se respetan las capacidades de los centros de distribución y las rutas.\n",
        "\n"
      ],
      "metadata": {
        "id": "PHgHMs89SXYW"
      }
    },
    {
      "cell_type": "code",
      "source": [
        "pip install pulp"
      ],
      "metadata": {
        "colab": {
          "base_uri": "https://localhost:8080/"
        },
        "id": "sw11FVaSWC-C",
        "outputId": "651b85a2-2ab4-48ff-fad9-0ff5277e79ea"
      },
      "execution_count": null,
      "outputs": [
        {
          "output_type": "stream",
          "name": "stdout",
          "text": [
            "Requirement already satisfied: pulp in /usr/local/lib/python3.10/dist-packages (2.8.0)\n"
          ]
        }
      ]
    },
    {
      "cell_type": "code",
      "source": [
        "import numpy as np\n",
        "import pulp\n",
        "\n",
        "# Generar datos de demanda estocásticos\n",
        "mu = np.array([[500, 300], [600, 400], [700, 500], [400, 200]])\n",
        "sigma = np.array([[50, 30], [60, 40], [70, 50], [40, 20]])\n",
        "\n",
        "np.random.seed(42)\n",
        "demanda = np.random.normal(mu, sigma)\n",
        "\n",
        "# Crear el problema de optimización\n",
        "prob = pulp.LpProblem(\"Optimización_de_la_Cadena_de_Suministro\", pulp.LpMinimize)\n",
        "\n",
        "# Variables de decisión\n",
        "x = pulp.LpVariable.dicts(\"x\", ((i, j, k, t) for i in range(1, 4) for j in range(1, 5) for k in range(1, 3) for t in range(1, 4)), lowBound=0, cat='Continuous')\n",
        "\n",
        "# Función objetivo\n",
        "costos = {\n",
        "    (1, 1, 1): 5, (1, 1, 2): 3, (1, 1, 3): 2,\n",
        "    (1, 2, 1): 7, (1, 2, 2): 5, (1, 2, 3): 4,\n",
        "    (1, 3, 1): 10, (1, 3, 2): 8, (1, 3, 3): 6,\n",
        "    (1, 4, 1): 6, (1, 4, 2): 4, (1, 4, 3): 3,\n",
        "    (2, 1, 1): 8, (2, 1, 2): 6, (2, 1, 3): 5,\n",
        "    (2, 2, 1): 5, (2, 2, 2): 3, (2, 2, 3): 2,\n",
        "    (2, 3, 1): 9, (2, 3, 2): 7, (2, 3, 3): 6,\n",
        "    (2, 4, 1): 7, (2, 4, 2): 5, (2, 4, 3): 4,\n",
        "    (3, 1, 1): 12, (3, 1, 2): 10, (3, 1, 3): 8,\n",
        "    (3, 2, 1): 10, (3, 2, 2): 8, (3, 2, 3): 6,\n",
        "    (3, 3, 1): 6, (3, 3, 2): 4, (3, 3, 3): 3,\n",
        "    (3, 4, 1): 11, (3, 4, 2): 9, (3, 4, 3): 7\n",
        "}\n",
        "\n",
        "prob += pulp.lpSum(costos[i, j, t] * x[i, j, k, t] for i in range(1, 4) for j in range(1, 5) for k in range(1, 3) for t in range(1, 4))\n",
        "\n",
        "# Restricciones\n",
        "capacidades_centros = {1: (1000, 800), 2: (1200, 1000), 3: (1500, 1100)}\n",
        "\n",
        "for i in range(1, 4):\n",
        "    for k in range(1, 3):\n",
        "        prob += pulp.lpSum(x[i, j, k, t] for j in range(1, 5) for t in range(1, 4)) <= capacidades_centros[i][k-1]\n",
        "\n",
        "for j in range(1, 5):\n",
        "    for k in range(1, 3):\n",
        "        prob += pulp.lpSum(x[i, j, k, t] for i in range(1, 4) for t in range(1, 4)) >= demanda[j-1, k-1]\n",
        "\n",
        "capacidades_rutas = {\n",
        "    (1, 1, 1): 200, (1, 1, 2): 500, (1, 1, 3): 300,\n",
        "    (1, 2, 1): 200, (1, 2, 2): 500, (1, 2, 3): 300,\n",
        "    (1, 3, 1): 200, (1, 3, 2): 500, (1, 3, 3): 300,\n",
        "    (1, 4, 1): 200, (1, 4, 2): 500, (1, 4, 3): 300,\n",
        "    (2, 1, 1): 200, (2, 1, 2): 500, (2, 1, 3): 300,\n",
        "    (2, 2, 1): 200, (2, 2, 2): 500, (2, 2, 3): 300,\n",
        "    (2, 3, 1): 200, (2, 3, 2): 500, (2, 3, 3): 300,\n",
        "    (2, 4, 1): 200, (2, 4, 2): 500, (2, 4, 3): 300,\n",
        "    (3, 1, 1): 200, (3, 1, 2): 500, (3, 1, 3): 300,\n",
        "    (3, 2, 1): 200, (3, 2, 2): 500, (3, 2, 3): 300,\n",
        "    (3, 3, 1): 200, (3, 3, 2): 500, (3, 3, 3): 300,\n",
        "    (3, 4, 1): 200, (3, 4, 2): 500, (3, 4, 3): 300\n",
        "}\n",
        "\n",
        "for i in range(1, 4):\n",
        "    for j in range(1, 5):\n",
        "        for t in range(1, 4):\n",
        "            prob += pulp.lpSum(x[i, j, k, t] for k in range(1, 3)) <= capacidades_rutas[(i, j, t)]\n",
        "\n",
        "tiempos_transporte = {1: 2, 2: 10, 3: 5}\n",
        "limites_tiempo = {1: 7, 2: 14, 3: 10, 4: 7}\n",
        "\n",
        "for j in range(1, 5):\n",
        "    prob += pulp.lpSum(tiempos_transporte[t] * x[i, j, k, t] for i in range(1, 4) for k in range(1, 3) for t in range(1, 4)) <= limites_tiempo[j]\n",
        "\n",
        "# Resolver el problema\n",
        "prob.solve()\n",
        "\n",
        "# Imprimir resultados\n",
        "for v in prob.variables():\n",
        "    print(f\"{v.name} = {v.varValue}\")\n",
        "\n",
        "print(f\"Costo total: {pulp.value(prob.objective)}\")\n"
      ],
      "metadata": {
        "id": "LweBxNqq1mlT",
        "outputId": "2033532d-46bb-4a4c-d023-9e226929a7ad",
        "colab": {
          "base_uri": "https://localhost:8080/"
        }
      },
      "execution_count": null,
      "outputs": [
        {
          "output_type": "stream",
          "name": "stdout",
          "text": [
            "x_(1,_1,_1,_1) = 0.0\n",
            "x_(1,_1,_1,_2) = 0.0\n",
            "x_(1,_1,_1,_3) = 524.83571\n",
            "x_(1,_1,_2,_1) = 0.0\n",
            "x_(1,_1,_2,_2) = 0.0\n",
            "x_(1,_1,_2,_3) = 0.0\n",
            "x_(1,_2,_1,_1) = 1167.383\n",
            "x_(1,_2,_1,_2) = 0.0\n",
            "x_(1,_2,_1,_3) = 0.0\n",
            "x_(1,_2,_2,_1) = 460.92119\n",
            "x_(1,_2,_2,_2) = 0.0\n",
            "x_(1,_2,_2,_3) = 0.0\n",
            "x_(1,_3,_1,_1) = 1210.7586\n",
            "x_(1,_3,_1,_2) = 0.0\n",
            "x_(1,_3,_1,_3) = 0.0\n",
            "x_(1,_3,_2,_1) = 339.07881\n",
            "x_(1,_3,_2,_2) = 0.0\n",
            "x_(1,_3,_2,_3) = 0.0\n",
            "x_(1,_4,_1,_1) = 0.0\n",
            "x_(1,_4,_1,_2) = 0.0\n",
            "x_(1,_4,_1,_3) = -1902.9772\n",
            "x_(1,_4,_2,_1) = 0.0\n",
            "x_(1,_4,_2,_2) = 0.0\n",
            "x_(1,_4,_2,_3) = 0.0\n",
            "x_(2,_1,_1,_1) = 0.0\n",
            "x_(2,_1,_1,_2) = 0.0\n",
            "x_(2,_1,_1,_3) = 0.0\n",
            "x_(2,_1,_2,_1) = 0.0\n",
            "x_(2,_1,_2,_2) = 0.0\n",
            "x_(2,_1,_2,_3) = 0.0\n",
            "x_(2,_2,_1,_1) = 200.0\n",
            "x_(2,_2,_1,_2) = 0.0\n",
            "x_(2,_2,_1,_3) = -728.52167\n",
            "x_(2,_2,_2,_1) = 0.0\n",
            "x_(2,_2,_2,_2) = 0.0\n",
            "x_(2,_2,_2,_3) = 0.0\n",
            "x_(2,_3,_1,_1) = 200.0\n",
            "x_(2,_3,_1,_2) = 0.0\n",
            "x_(2,_3,_1,_3) = 0.0\n",
            "x_(2,_3,_2,_1) = 0.0\n",
            "x_(2,_3,_2,_2) = 0.0\n",
            "x_(2,_3,_2,_3) = 0.0\n",
            "x_(2,_4,_1,_1) = 0.0\n",
            "x_(2,_4,_1,_2) = 0.0\n",
            "x_(2,_4,_1,_3) = 2366.1458\n",
            "x_(2,_4,_2,_1) = 0.0\n",
            "x_(2,_4,_2,_2) = 0.0\n",
            "x_(2,_4,_2,_3) = 0.0\n",
            "x_(3,_1,_1,_1) = 0.0\n",
            "x_(3,_1,_1,_2) = 0.0\n",
            "x_(3,_1,_1,_3) = 0.0\n",
            "x_(3,_1,_2,_1) = 0.0\n",
            "x_(3,_1,_2,_2) = 0.0\n",
            "x_(3,_1,_2,_3) = 0.0\n",
            "x_(3,_2,_1,_1) = 0.0\n",
            "x_(3,_2,_1,_2) = 0.0\n",
            "x_(3,_2,_1,_3) = 0.0\n",
            "x_(3,_2,_2,_1) = 0.0\n",
            "x_(3,_2,_2,_2) = 0.0\n",
            "x_(3,_2,_2,_3) = 0.0\n",
            "x_(3,_3,_1,_1) = -727.14929\n",
            "x_(3,_3,_1,_2) = 0.0\n",
            "x_(3,_3,_1,_3) = 0.0\n",
            "x_(3,_3,_2,_1) = 927.14929\n",
            "x_(3,_3,_2,_2) = 0.0\n",
            "x_(3,_3,_2,_3) = -777.93494\n",
            "x_(3,_4,_1,_1) = 0.0\n",
            "x_(3,_4,_1,_2) = 0.0\n",
            "x_(3,_4,_1,_3) = 0.0\n",
            "x_(3,_4,_2,_1) = 0.0\n",
            "x_(3,_4,_2,_2) = 0.0\n",
            "x_(3,_4,_2,_3) = 0.0\n",
            "Costo total: 31910.978290000003\n"
          ]
        }
      ]
    },
    {
      "cell_type": "markdown",
      "source": [
        "#  Análisis de Resultados\n",
        "Después de resolver el modelo, se procede a evaluar la solución obtenida. Se revisa la distribución óptima de productos entre los centros de distribución y los clientes, así como el costo total de transporte. Se realiza un análisis de sensibilidad para evaluar cómo las variaciones en los parámetros del modelo afectan la solución óptima."
      ],
      "metadata": {
        "id": "q2EqlQYdSd1f"
      }
    },
    {
      "cell_type": "code",
      "source": [
        "# Análisis de sensibilidad\n",
        "print(\"Análisis de sensibilidad:\")\n",
        "for name, c in prob.constraints.items():\n",
        "    print(f\"{name}: Precio sombra = {c.pi}, Holgura = {c.slack}\")\n",
        "\n",
        "for v in prob.variables():\n",
        "    print(f\"{v.name}: Costo reducido = {v.dj}\")\n"
      ],
      "metadata": {
        "colab": {
          "base_uri": "https://localhost:8080/"
        },
        "id": "2B3YLXSgYpZs",
        "outputId": "9c0d11a3-00f8-4cf1-cd25-660a67c8315c"
      },
      "execution_count": null,
      "outputs": [
        {
          "output_type": "stream",
          "name": "stdout",
          "text": [
            "Análisis de sensibilidad:\n",
            "_C1: Precio sombra = -1.0000071, Holgura = -0.0\n",
            "_C2: Precio sombra = -0.99998279, Holgura = -0.0\n",
            "_C3: Precio sombra = 0.0, Holgura = -837.6241\n",
            "_C4: Precio sombra = 0.0, Holgura = 1000.0\n",
            "_C5: Precio sombra = 0.0, Holgura = 2227.14929\n",
            "_C6: Precio sombra = 0.0, Holgura = 950.78565\n",
            "_C7: Precio sombra = 3.0000435, Holgura = -2.349438318560715e-06\n",
            "_C8: Precio sombra = 0.0, Holgura = 295.8520709648645\n",
            "_C9: Precio sombra = 12.000082, Holgura = 2.286041535626282e-06\n",
            "_C10: Precio sombra = 12.000074, Holgura = 4.256321005868813e-06\n",
            "_C11: Precio sombra = 16.333453, Holgura = 3.769366571759747e-06\n",
            "_C12: Precio sombra = 16.333441, Holgura = 2.1525409579226107e-06\n",
            "_C13: Precio sombra = 4.000042, Holgura = 2.620295617816737e-06\n",
            "_C14: Precio sombra = 0.0, Holgura = 215.34869458305818\n",
            "_C15: Precio sombra = 0.0, Holgura = 200.0\n",
            "_C16: Precio sombra = 0.0, Holgura = 500.0\n",
            "_C17: Precio sombra = 0.0, Holgura = -224.83570999999995\n",
            "_C18: Precio sombra = 0.0, Holgura = -1428.3042\n",
            "_C19: Precio sombra = 0.0, Holgura = 500.0\n",
            "_C20: Precio sombra = 0.0, Holgura = 300.0\n",
            "_C21: Precio sombra = 0.0, Holgura = -1349.8374\n",
            "_C22: Precio sombra = 0.0, Holgura = 500.0\n",
            "_C23: Precio sombra = 0.0, Holgura = 300.0\n",
            "_C24: Precio sombra = 0.0, Holgura = 200.0\n",
            "_C25: Precio sombra = 0.0, Holgura = 500.0\n",
            "_C26: Precio sombra = 0.0, Holgura = 2202.9772000000003\n",
            "_C27: Precio sombra = 0.0, Holgura = 200.0\n",
            "_C28: Precio sombra = 0.0, Holgura = 500.0\n",
            "_C29: Precio sombra = 0.0, Holgura = 300.0\n",
            "_C30: Precio sombra = -3.0000145, Holgura = -0.0\n",
            "_C31: Precio sombra = 0.0, Holgura = 500.0\n",
            "_C32: Precio sombra = 0.0, Holgura = 1028.52167\n",
            "_C33: Precio sombra = -2.0000096, Holgura = -0.0\n",
            "_C34: Precio sombra = 0.0, Holgura = 500.0\n",
            "_C35: Precio sombra = 0.0, Holgura = 300.0\n",
            "_C36: Precio sombra = 0.0, Holgura = 200.0\n",
            "_C37: Precio sombra = 0.0, Holgura = 500.0\n",
            "_C38: Precio sombra = 0.0, Holgura = -2066.1458\n",
            "_C39: Precio sombra = 0.0, Holgura = 200.0\n",
            "_C40: Precio sombra = 0.0, Holgura = 500.0\n",
            "_C41: Precio sombra = 0.0, Holgura = 300.0\n",
            "_C42: Precio sombra = 0.0, Holgura = 200.0\n",
            "_C43: Precio sombra = 0.0, Holgura = 500.0\n",
            "_C44: Precio sombra = 0.0, Holgura = 300.0\n",
            "_C45: Precio sombra = -5.0000158, Holgura = -0.0\n",
            "_C46: Precio sombra = 0.0, Holgura = 500.0\n",
            "_C47: Precio sombra = 0.0, Holgura = 1077.93494\n",
            "_C48: Precio sombra = 0.0, Holgura = 200.0\n",
            "_C49: Precio sombra = 0.0, Holgura = 500.0\n",
            "_C50: Precio sombra = 0.0, Holgura = 300.0\n",
            "_C51: Precio sombra = 0.0, Holgura = -2617.1785\n",
            "_C52: Precio sombra = -2.0000086, Holgura = -0.0\n",
            "_C53: Precio sombra = -2.6666815, Holgura = -0.0\n",
            "_C54: Precio sombra = 0.0, Holgura = -2308.8426\n",
            "x_(1,_1,_1,_1): Costo reducido = 3.0000246\n",
            "x_(1,_1,_1,_2): Costo reducido = 1.0000055\n",
            "x_(1,_1,_1,_3): Costo reducido = 0.0\n",
            "x_(1,_1,_2,_1): Costo reducido = 6.0000346\n",
            "x_(1,_1,_2,_2): Costo reducido = 4.0000392\n",
            "x_(1,_1,_2,_3): Costo reducido = 3.0000164\n",
            "x_(1,_2,_1,_1): Costo reducido = 0.0\n",
            "x_(1,_2,_1,_2): Costo reducido = 14.000089\n",
            "x_(1,_2,_1,_3): Costo reducido = 3.0000273\n",
            "x_(1,_2,_2,_1): Costo reducido = 0.0\n",
            "x_(1,_2,_2,_2): Costo reducido = 14.00008\n",
            "x_(1,_2,_2,_3): Costo reducido = 3.0000027\n",
            "x_(1,_3,_1,_1): Costo reducido = 0.0\n",
            "x_(1,_3,_1,_2): Costo reducido = 19.333454\n",
            "x_(1,_3,_1,_3): Costo reducido = 4.0000155\n",
            "x_(1,_3,_2,_1): Costo reducido = 0.0\n",
            "x_(1,_3,_2,_2): Costo reducido = 19.333428\n",
            "x_(1,_3,_2,_3): Costo reducido = 4.0000253\n",
            "x_(1,_4,_1,_1): Costo reducido = 3.0000303\n",
            "x_(1,_4,_1,_2): Costo reducido = 1.0000426\n",
            "x_(1,_4,_1,_3): Costo reducido = 0.0\n",
            "x_(1,_4,_2,_1): Costo reducido = 7.0000351\n",
            "x_(1,_4,_2,_2): Costo reducido = 5.000057\n",
            "x_(1,_4,_2,_3): Costo reducido = 4.0000122\n",
            "x_(2,_1,_1,_1): Costo reducido = 5.0000347\n",
            "x_(2,_1,_1,_2): Costo reducido = 3.0000312\n",
            "x_(2,_1,_1,_3): Costo reducido = 2.0000244\n",
            "x_(2,_1,_2,_1): Costo reducido = 8.0000789\n",
            "x_(2,_1,_2,_2): Costo reducido = 6.0001044\n",
            "x_(2,_1,_2,_3): Costo reducido = 5.00006\n",
            "x_(2,_2,_1,_1): Costo reducido = 0.0\n",
            "x_(2,_2,_1,_2): Costo reducido = 11.000066\n",
            "x_(2,_2,_1,_3): Costo reducido = 0.0\n",
            "x_(2,_2,_2,_1): Costo reducido = 6.6475502e-06\n",
            "x_(2,_2,_2,_2): Costo reducido = 11.000064\n",
            "x_(2,_2,_2,_3): Costo reducido = 9.9723985e-06\n",
            "x_(2,_3,_1,_1): Costo reducido = 0.0\n",
            "x_(2,_3,_1,_2): Costo reducido = 17.333479\n",
            "x_(2,_3,_1,_3): Costo reducido = 3.0000081\n",
            "x_(2,_3,_2,_1): Costo reducido = 6.8713604e-06\n",
            "x_(2,_3,_2,_2): Costo reducido = 17.333479\n",
            "x_(2,_3,_2,_3): Costo reducido = 3.0000239\n",
            "x_(2,_4,_1,_1): Costo reducido = 3.000009\n",
            "x_(2,_4,_1,_2): Costo reducido = 1.0000542\n",
            "x_(2,_4,_1,_3): Costo reducido = 0.0\n",
            "x_(2,_4,_2,_1): Costo reducido = 7.0000808\n",
            "x_(2,_4,_2,_2): Costo reducido = 5.0000792\n",
            "x_(2,_4,_2,_3): Costo reducido = 4.0000622\n",
            "x_(3,_1,_1,_1): Costo reducido = 8.9999678\n",
            "x_(3,_1,_1,_2): Costo reducido = 7.0000987\n",
            "x_(3,_1,_1,_3): Costo reducido = 5.0000238\n",
            "x_(3,_1,_2,_1): Costo reducido = 12.000081\n",
            "x_(3,_1,_2,_2): Costo reducido = 10.000147\n",
            "x_(3,_1,_2,_3): Costo reducido = 8.0000764\n",
            "x_(3,_2,_1,_1): Costo reducido = 2.0000017\n",
            "x_(3,_2,_1,_2): Costo reducido = 16.000091\n",
            "x_(3,_2,_1,_3): Costo reducido = 4.0000182\n",
            "x_(3,_2,_2,_1): Costo reducido = 1.9999544\n",
            "x_(3,_2,_2,_2): Costo reducido = 16.000121\n",
            "x_(3,_2,_2,_3): Costo reducido = 4.0000481\n",
            "x_(3,_3,_1,_1): Costo reducido = 0.0\n",
            "x_(3,_3,_1,_2): Costo reducido = 14.333448\n",
            "x_(3,_3,_1,_3): Costo reducido = 5.7736612e-07\n",
            "x_(3,_3,_2,_1): Costo reducido = 0.0\n",
            "x_(3,_3,_2,_2): Costo reducido = 14.333459\n",
            "x_(3,_3,_2,_3): Costo reducido = 0.0\n",
            "x_(3,_4,_1,_1): Costo reducido = 6.9999696\n",
            "x_(3,_4,_1,_2): Costo reducido = 5.0000967\n",
            "x_(3,_4,_1,_3): Costo reducido = 3.0000469\n",
            "x_(3,_4,_2,_1): Costo reducido = 11.000011\n",
            "x_(3,_4,_2,_2): Costo reducido = 9.000093\n",
            "x_(3,_4,_2,_3): Costo reducido = 7.0000671\n"
          ]
        }
      ]
    }
  ]
}